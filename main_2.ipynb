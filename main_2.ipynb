{
 "cells": [
  {
   "cell_type": "code",
   "execution_count": 1,
   "metadata": {
    "collapsed": true
   },
   "outputs": [],
   "source": [
    "import pandas as pd\n",
    "import numpy as np"
   ]
  },
  {
   "cell_type": "code",
   "execution_count": 2,
   "outputs": [],
   "source": [
    "train = pd.read_csv('./train.csv')\n",
    "test = pd.read_csv('./test.csv')\n",
    "stores = pd.read_csv('./stores.csv')\n",
    "transactions = pd.read_csv('./transactions.csv')\n",
    "holidays = pd.read_csv('./holidays_events.csv')\n",
    "oil = pd.read_csv('./oil.csv')"
   ],
   "metadata": {
    "collapsed": false
   }
  },
  {
   "cell_type": "code",
   "execution_count": 3,
   "outputs": [],
   "source": [
    "oil['dcoilwtico'] = oil['dcoilwtico'].interpolate()"
   ],
   "metadata": {
    "collapsed": false
   }
  },
  {
   "cell_type": "code",
   "execution_count": 4,
   "outputs": [],
   "source": [
    "oil['dcoilwtico'] = oil['dcoilwtico'].fillna(93.14)"
   ],
   "metadata": {
    "collapsed": false
   }
  },
  {
   "cell_type": "code",
   "execution_count": 5,
   "outputs": [],
   "source": [
    "date_range = pd.date_range(start=oil['date'].min(), end=oil['date'].max())\n",
    "df_dates = pd.DataFrame(date_range, columns=['date'])"
   ],
   "metadata": {
    "collapsed": false
   }
  },
  {
   "cell_type": "code",
   "execution_count": 6,
   "outputs": [],
   "source": [
    "oil['date'] = pd.to_datetime(oil['date'])"
   ],
   "metadata": {
    "collapsed": false
   }
  },
  {
   "cell_type": "code",
   "execution_count": 7,
   "outputs": [],
   "source": [
    "oil = pd.merge(df_dates, oil, on='date', how='left')"
   ],
   "metadata": {
    "collapsed": false
   }
  },
  {
   "cell_type": "code",
   "execution_count": 8,
   "outputs": [],
   "source": [
    "# Интерполяция\n",
    "oil['dcoilwtico'].interpolate(method='linear', inplace=True)"
   ],
   "metadata": {
    "collapsed": false
   }
  },
  {
   "cell_type": "code",
   "execution_count": 9,
   "outputs": [],
   "source": [
    "oil_train = oil[oil['date'] <= '2017-08-15']\n",
    "oil_test = oil[oil['date'] > '2017-08-15']"
   ],
   "metadata": {
    "collapsed": false
   }
  },
  {
   "cell_type": "code",
   "execution_count": 10,
   "outputs": [
    {
     "data": {
      "text/plain": "           date  dcoilwtico\n0    2013-01-01   93.140000\n1    2013-01-02   93.140000\n2    2013-01-03   92.970000\n3    2013-01-04   93.120000\n4    2013-01-05   93.146667\n...         ...         ...\n1683 2017-08-11   48.810000\n1684 2017-08-12   48.403333\n1685 2017-08-13   47.996667\n1686 2017-08-14   47.590000\n1687 2017-08-15   47.570000\n\n[1688 rows x 2 columns]",
      "text/html": "<div>\n<style scoped>\n    .dataframe tbody tr th:only-of-type {\n        vertical-align: middle;\n    }\n\n    .dataframe tbody tr th {\n        vertical-align: top;\n    }\n\n    .dataframe thead th {\n        text-align: right;\n    }\n</style>\n<table border=\"1\" class=\"dataframe\">\n  <thead>\n    <tr style=\"text-align: right;\">\n      <th></th>\n      <th>date</th>\n      <th>dcoilwtico</th>\n    </tr>\n  </thead>\n  <tbody>\n    <tr>\n      <th>0</th>\n      <td>2013-01-01</td>\n      <td>93.140000</td>\n    </tr>\n    <tr>\n      <th>1</th>\n      <td>2013-01-02</td>\n      <td>93.140000</td>\n    </tr>\n    <tr>\n      <th>2</th>\n      <td>2013-01-03</td>\n      <td>92.970000</td>\n    </tr>\n    <tr>\n      <th>3</th>\n      <td>2013-01-04</td>\n      <td>93.120000</td>\n    </tr>\n    <tr>\n      <th>4</th>\n      <td>2013-01-05</td>\n      <td>93.146667</td>\n    </tr>\n    <tr>\n      <th>...</th>\n      <td>...</td>\n      <td>...</td>\n    </tr>\n    <tr>\n      <th>1683</th>\n      <td>2017-08-11</td>\n      <td>48.810000</td>\n    </tr>\n    <tr>\n      <th>1684</th>\n      <td>2017-08-12</td>\n      <td>48.403333</td>\n    </tr>\n    <tr>\n      <th>1685</th>\n      <td>2017-08-13</td>\n      <td>47.996667</td>\n    </tr>\n    <tr>\n      <th>1686</th>\n      <td>2017-08-14</td>\n      <td>47.590000</td>\n    </tr>\n    <tr>\n      <th>1687</th>\n      <td>2017-08-15</td>\n      <td>47.570000</td>\n    </tr>\n  </tbody>\n</table>\n<p>1688 rows × 2 columns</p>\n</div>"
     },
     "execution_count": 10,
     "metadata": {},
     "output_type": "execute_result"
    }
   ],
   "source": [
    "oil_train"
   ],
   "metadata": {
    "collapsed": false
   }
  },
  {
   "cell_type": "code",
   "execution_count": 11,
   "outputs": [
    {
     "data": {
      "text/plain": "           date        type    locale locale_name  \\\n0    2012-03-02     Holiday     Local       Manta   \n1    2012-04-01     Holiday  Regional    Cotopaxi   \n2    2012-04-12     Holiday     Local      Cuenca   \n3    2012-04-14     Holiday     Local    Libertad   \n4    2012-04-21     Holiday     Local    Riobamba   \n..          ...         ...       ...         ...   \n345  2017-12-22  Additional  National     Ecuador   \n346  2017-12-23  Additional  National     Ecuador   \n347  2017-12-24  Additional  National     Ecuador   \n348  2017-12-25     Holiday  National     Ecuador   \n349  2017-12-26  Additional  National     Ecuador   \n\n                       description  transferred  \n0               Fundacion de Manta        False  \n1    Provincializacion de Cotopaxi        False  \n2              Fundacion de Cuenca        False  \n3        Cantonizacion de Libertad        False  \n4        Cantonizacion de Riobamba        False  \n..                             ...          ...  \n345                      Navidad-3        False  \n346                      Navidad-2        False  \n347                      Navidad-1        False  \n348                        Navidad        False  \n349                      Navidad+1        False  \n\n[350 rows x 6 columns]",
      "text/html": "<div>\n<style scoped>\n    .dataframe tbody tr th:only-of-type {\n        vertical-align: middle;\n    }\n\n    .dataframe tbody tr th {\n        vertical-align: top;\n    }\n\n    .dataframe thead th {\n        text-align: right;\n    }\n</style>\n<table border=\"1\" class=\"dataframe\">\n  <thead>\n    <tr style=\"text-align: right;\">\n      <th></th>\n      <th>date</th>\n      <th>type</th>\n      <th>locale</th>\n      <th>locale_name</th>\n      <th>description</th>\n      <th>transferred</th>\n    </tr>\n  </thead>\n  <tbody>\n    <tr>\n      <th>0</th>\n      <td>2012-03-02</td>\n      <td>Holiday</td>\n      <td>Local</td>\n      <td>Manta</td>\n      <td>Fundacion de Manta</td>\n      <td>False</td>\n    </tr>\n    <tr>\n      <th>1</th>\n      <td>2012-04-01</td>\n      <td>Holiday</td>\n      <td>Regional</td>\n      <td>Cotopaxi</td>\n      <td>Provincializacion de Cotopaxi</td>\n      <td>False</td>\n    </tr>\n    <tr>\n      <th>2</th>\n      <td>2012-04-12</td>\n      <td>Holiday</td>\n      <td>Local</td>\n      <td>Cuenca</td>\n      <td>Fundacion de Cuenca</td>\n      <td>False</td>\n    </tr>\n    <tr>\n      <th>3</th>\n      <td>2012-04-14</td>\n      <td>Holiday</td>\n      <td>Local</td>\n      <td>Libertad</td>\n      <td>Cantonizacion de Libertad</td>\n      <td>False</td>\n    </tr>\n    <tr>\n      <th>4</th>\n      <td>2012-04-21</td>\n      <td>Holiday</td>\n      <td>Local</td>\n      <td>Riobamba</td>\n      <td>Cantonizacion de Riobamba</td>\n      <td>False</td>\n    </tr>\n    <tr>\n      <th>...</th>\n      <td>...</td>\n      <td>...</td>\n      <td>...</td>\n      <td>...</td>\n      <td>...</td>\n      <td>...</td>\n    </tr>\n    <tr>\n      <th>345</th>\n      <td>2017-12-22</td>\n      <td>Additional</td>\n      <td>National</td>\n      <td>Ecuador</td>\n      <td>Navidad-3</td>\n      <td>False</td>\n    </tr>\n    <tr>\n      <th>346</th>\n      <td>2017-12-23</td>\n      <td>Additional</td>\n      <td>National</td>\n      <td>Ecuador</td>\n      <td>Navidad-2</td>\n      <td>False</td>\n    </tr>\n    <tr>\n      <th>347</th>\n      <td>2017-12-24</td>\n      <td>Additional</td>\n      <td>National</td>\n      <td>Ecuador</td>\n      <td>Navidad-1</td>\n      <td>False</td>\n    </tr>\n    <tr>\n      <th>348</th>\n      <td>2017-12-25</td>\n      <td>Holiday</td>\n      <td>National</td>\n      <td>Ecuador</td>\n      <td>Navidad</td>\n      <td>False</td>\n    </tr>\n    <tr>\n      <th>349</th>\n      <td>2017-12-26</td>\n      <td>Additional</td>\n      <td>National</td>\n      <td>Ecuador</td>\n      <td>Navidad+1</td>\n      <td>False</td>\n    </tr>\n  </tbody>\n</table>\n<p>350 rows × 6 columns</p>\n</div>"
     },
     "execution_count": 11,
     "metadata": {},
     "output_type": "execute_result"
    }
   ],
   "source": [
    "holidays"
   ],
   "metadata": {
    "collapsed": false
   }
  },
  {
   "cell_type": "code",
   "execution_count": 12,
   "outputs": [],
   "source": [
    "holidays_dict = {}\n",
    "\n",
    "for index, row in holidays.iterrows():\n",
    "    if row['type'] == 'Transfer':\n",
    "        # Записываем настоящие даты празднования для переносных праздников\n",
    "        holidays_dict[row['date']] = (row['locale'], row['locale_name'])\n",
    "    else:\n",
    "        # Записываем обычные праздники\n",
    "        holidays_dict[row['date']] = (row['locale'], row['locale_name'])"
   ],
   "metadata": {
    "collapsed": false
   }
  },
  {
   "cell_type": "code",
   "execution_count": 13,
   "outputs": [],
   "source": [
    "merged_train = train.merge(stores, on='store_nbr', how='left')"
   ],
   "metadata": {
    "collapsed": false
   }
  },
  {
   "cell_type": "code",
   "execution_count": 14,
   "outputs": [
    {
     "data": {
      "text/plain": "              id        date  store_nbr                      family     sales  \\\n0              0  2013-01-01          1                  AUTOMOTIVE     0.000   \n1              1  2013-01-01          1                   BABY CARE     0.000   \n2              2  2013-01-01          1                      BEAUTY     0.000   \n3              3  2013-01-01          1                   BEVERAGES     0.000   \n4              4  2013-01-01          1                       BOOKS     0.000   \n...          ...         ...        ...                         ...       ...   \n3000883  3000883  2017-08-15          9                     POULTRY   438.133   \n3000884  3000884  2017-08-15          9              PREPARED FOODS   154.553   \n3000885  3000885  2017-08-15          9                     PRODUCE  2419.729   \n3000886  3000886  2017-08-15          9  SCHOOL AND OFFICE SUPPLIES   121.000   \n3000887  3000887  2017-08-15          9                     SEAFOOD    16.000   \n\n         onpromotion   city      state type  cluster  \n0                  0  Quito  Pichincha    D       13  \n1                  0  Quito  Pichincha    D       13  \n2                  0  Quito  Pichincha    D       13  \n3                  0  Quito  Pichincha    D       13  \n4                  0  Quito  Pichincha    D       13  \n...              ...    ...        ...  ...      ...  \n3000883            0  Quito  Pichincha    B        6  \n3000884            1  Quito  Pichincha    B        6  \n3000885          148  Quito  Pichincha    B        6  \n3000886            8  Quito  Pichincha    B        6  \n3000887            0  Quito  Pichincha    B        6  \n\n[3000888 rows x 10 columns]",
      "text/html": "<div>\n<style scoped>\n    .dataframe tbody tr th:only-of-type {\n        vertical-align: middle;\n    }\n\n    .dataframe tbody tr th {\n        vertical-align: top;\n    }\n\n    .dataframe thead th {\n        text-align: right;\n    }\n</style>\n<table border=\"1\" class=\"dataframe\">\n  <thead>\n    <tr style=\"text-align: right;\">\n      <th></th>\n      <th>id</th>\n      <th>date</th>\n      <th>store_nbr</th>\n      <th>family</th>\n      <th>sales</th>\n      <th>onpromotion</th>\n      <th>city</th>\n      <th>state</th>\n      <th>type</th>\n      <th>cluster</th>\n    </tr>\n  </thead>\n  <tbody>\n    <tr>\n      <th>0</th>\n      <td>0</td>\n      <td>2013-01-01</td>\n      <td>1</td>\n      <td>AUTOMOTIVE</td>\n      <td>0.000</td>\n      <td>0</td>\n      <td>Quito</td>\n      <td>Pichincha</td>\n      <td>D</td>\n      <td>13</td>\n    </tr>\n    <tr>\n      <th>1</th>\n      <td>1</td>\n      <td>2013-01-01</td>\n      <td>1</td>\n      <td>BABY CARE</td>\n      <td>0.000</td>\n      <td>0</td>\n      <td>Quito</td>\n      <td>Pichincha</td>\n      <td>D</td>\n      <td>13</td>\n    </tr>\n    <tr>\n      <th>2</th>\n      <td>2</td>\n      <td>2013-01-01</td>\n      <td>1</td>\n      <td>BEAUTY</td>\n      <td>0.000</td>\n      <td>0</td>\n      <td>Quito</td>\n      <td>Pichincha</td>\n      <td>D</td>\n      <td>13</td>\n    </tr>\n    <tr>\n      <th>3</th>\n      <td>3</td>\n      <td>2013-01-01</td>\n      <td>1</td>\n      <td>BEVERAGES</td>\n      <td>0.000</td>\n      <td>0</td>\n      <td>Quito</td>\n      <td>Pichincha</td>\n      <td>D</td>\n      <td>13</td>\n    </tr>\n    <tr>\n      <th>4</th>\n      <td>4</td>\n      <td>2013-01-01</td>\n      <td>1</td>\n      <td>BOOKS</td>\n      <td>0.000</td>\n      <td>0</td>\n      <td>Quito</td>\n      <td>Pichincha</td>\n      <td>D</td>\n      <td>13</td>\n    </tr>\n    <tr>\n      <th>...</th>\n      <td>...</td>\n      <td>...</td>\n      <td>...</td>\n      <td>...</td>\n      <td>...</td>\n      <td>...</td>\n      <td>...</td>\n      <td>...</td>\n      <td>...</td>\n      <td>...</td>\n    </tr>\n    <tr>\n      <th>3000883</th>\n      <td>3000883</td>\n      <td>2017-08-15</td>\n      <td>9</td>\n      <td>POULTRY</td>\n      <td>438.133</td>\n      <td>0</td>\n      <td>Quito</td>\n      <td>Pichincha</td>\n      <td>B</td>\n      <td>6</td>\n    </tr>\n    <tr>\n      <th>3000884</th>\n      <td>3000884</td>\n      <td>2017-08-15</td>\n      <td>9</td>\n      <td>PREPARED FOODS</td>\n      <td>154.553</td>\n      <td>1</td>\n      <td>Quito</td>\n      <td>Pichincha</td>\n      <td>B</td>\n      <td>6</td>\n    </tr>\n    <tr>\n      <th>3000885</th>\n      <td>3000885</td>\n      <td>2017-08-15</td>\n      <td>9</td>\n      <td>PRODUCE</td>\n      <td>2419.729</td>\n      <td>148</td>\n      <td>Quito</td>\n      <td>Pichincha</td>\n      <td>B</td>\n      <td>6</td>\n    </tr>\n    <tr>\n      <th>3000886</th>\n      <td>3000886</td>\n      <td>2017-08-15</td>\n      <td>9</td>\n      <td>SCHOOL AND OFFICE SUPPLIES</td>\n      <td>121.000</td>\n      <td>8</td>\n      <td>Quito</td>\n      <td>Pichincha</td>\n      <td>B</td>\n      <td>6</td>\n    </tr>\n    <tr>\n      <th>3000887</th>\n      <td>3000887</td>\n      <td>2017-08-15</td>\n      <td>9</td>\n      <td>SEAFOOD</td>\n      <td>16.000</td>\n      <td>0</td>\n      <td>Quito</td>\n      <td>Pichincha</td>\n      <td>B</td>\n      <td>6</td>\n    </tr>\n  </tbody>\n</table>\n<p>3000888 rows × 10 columns</p>\n</div>"
     },
     "execution_count": 14,
     "metadata": {},
     "output_type": "execute_result"
    }
   ],
   "source": [
    "merged_train"
   ],
   "metadata": {
    "collapsed": false
   }
  },
  {
   "cell_type": "code",
   "execution_count": 15,
   "outputs": [],
   "source": [
    "def check_holiday(row):\n",
    "    if row['date'] in holidays_dict:\n",
    "        locale, locale_name = holidays_dict[row['date']]\n",
    "\n",
    "        # Если праздник национальный, то он отмечается везде\n",
    "        if locale == 'National':\n",
    "            return True\n",
    "\n",
    "        # Если праздник региональный, учитываем штат\n",
    "        if locale == 'Regional' and row['state'] == locale_name:\n",
    "            return True\n",
    "\n",
    "        # Если праздник местный, учитываем город\n",
    "        if locale == 'Local' and row['city'] == locale_name:\n",
    "            return True\n",
    "\n",
    "    return False\n",
    "\n",
    "merged_train['isHoliday'] = merged_train.apply(check_holiday, axis=1)"
   ],
   "metadata": {
    "collapsed": false
   }
  },
  {
   "cell_type": "code",
   "execution_count": 16,
   "outputs": [
    {
     "data": {
      "text/plain": "False    2739099\nTrue      261789\nName: isHoliday, dtype: int64"
     },
     "execution_count": 16,
     "metadata": {},
     "output_type": "execute_result"
    }
   ],
   "source": [
    "merged_train['isHoliday'].value_counts()"
   ],
   "metadata": {
    "collapsed": false
   }
  },
  {
   "cell_type": "code",
   "execution_count": 17,
   "outputs": [],
   "source": [
    "merged_train['date'] = pd.to_datetime(merged_train['date'])"
   ],
   "metadata": {
    "collapsed": false
   }
  },
  {
   "cell_type": "code",
   "execution_count": 18,
   "outputs": [],
   "source": [
    "merged_train = merged_train.merge(oil_train, on='date', how='left')"
   ],
   "metadata": {
    "collapsed": false
   }
  },
  {
   "cell_type": "code",
   "execution_count": 19,
   "outputs": [
    {
     "data": {
      "text/plain": "id             0\ndate           0\nstore_nbr      0\nfamily         0\nsales          0\nonpromotion    0\ncity           0\nstate          0\ntype           0\ncluster        0\nisHoliday      0\ndcoilwtico     0\ndtype: int64"
     },
     "execution_count": 19,
     "metadata": {},
     "output_type": "execute_result"
    }
   ],
   "source": [
    "merged_train.isna().sum()"
   ],
   "metadata": {
    "collapsed": false
   }
  },
  {
   "cell_type": "code",
   "execution_count": 20,
   "outputs": [
    {
     "data": {
      "text/plain": "              id       date  store_nbr                      family     sales  \\\n0              0 2013-01-01          1                  AUTOMOTIVE     0.000   \n1              1 2013-01-01          1                   BABY CARE     0.000   \n2              2 2013-01-01          1                      BEAUTY     0.000   \n3              3 2013-01-01          1                   BEVERAGES     0.000   \n4              4 2013-01-01          1                       BOOKS     0.000   \n...          ...        ...        ...                         ...       ...   \n3000883  3000883 2017-08-15          9                     POULTRY   438.133   \n3000884  3000884 2017-08-15          9              PREPARED FOODS   154.553   \n3000885  3000885 2017-08-15          9                     PRODUCE  2419.729   \n3000886  3000886 2017-08-15          9  SCHOOL AND OFFICE SUPPLIES   121.000   \n3000887  3000887 2017-08-15          9                     SEAFOOD    16.000   \n\n         onpromotion   city      state type  cluster  isHoliday  dcoilwtico  \n0                  0  Quito  Pichincha    D       13       True       93.14  \n1                  0  Quito  Pichincha    D       13       True       93.14  \n2                  0  Quito  Pichincha    D       13       True       93.14  \n3                  0  Quito  Pichincha    D       13       True       93.14  \n4                  0  Quito  Pichincha    D       13       True       93.14  \n...              ...    ...        ...  ...      ...        ...         ...  \n3000883            0  Quito  Pichincha    B        6      False       47.57  \n3000884            1  Quito  Pichincha    B        6      False       47.57  \n3000885          148  Quito  Pichincha    B        6      False       47.57  \n3000886            8  Quito  Pichincha    B        6      False       47.57  \n3000887            0  Quito  Pichincha    B        6      False       47.57  \n\n[3000888 rows x 12 columns]",
      "text/html": "<div>\n<style scoped>\n    .dataframe tbody tr th:only-of-type {\n        vertical-align: middle;\n    }\n\n    .dataframe tbody tr th {\n        vertical-align: top;\n    }\n\n    .dataframe thead th {\n        text-align: right;\n    }\n</style>\n<table border=\"1\" class=\"dataframe\">\n  <thead>\n    <tr style=\"text-align: right;\">\n      <th></th>\n      <th>id</th>\n      <th>date</th>\n      <th>store_nbr</th>\n      <th>family</th>\n      <th>sales</th>\n      <th>onpromotion</th>\n      <th>city</th>\n      <th>state</th>\n      <th>type</th>\n      <th>cluster</th>\n      <th>isHoliday</th>\n      <th>dcoilwtico</th>\n    </tr>\n  </thead>\n  <tbody>\n    <tr>\n      <th>0</th>\n      <td>0</td>\n      <td>2013-01-01</td>\n      <td>1</td>\n      <td>AUTOMOTIVE</td>\n      <td>0.000</td>\n      <td>0</td>\n      <td>Quito</td>\n      <td>Pichincha</td>\n      <td>D</td>\n      <td>13</td>\n      <td>True</td>\n      <td>93.14</td>\n    </tr>\n    <tr>\n      <th>1</th>\n      <td>1</td>\n      <td>2013-01-01</td>\n      <td>1</td>\n      <td>BABY CARE</td>\n      <td>0.000</td>\n      <td>0</td>\n      <td>Quito</td>\n      <td>Pichincha</td>\n      <td>D</td>\n      <td>13</td>\n      <td>True</td>\n      <td>93.14</td>\n    </tr>\n    <tr>\n      <th>2</th>\n      <td>2</td>\n      <td>2013-01-01</td>\n      <td>1</td>\n      <td>BEAUTY</td>\n      <td>0.000</td>\n      <td>0</td>\n      <td>Quito</td>\n      <td>Pichincha</td>\n      <td>D</td>\n      <td>13</td>\n      <td>True</td>\n      <td>93.14</td>\n    </tr>\n    <tr>\n      <th>3</th>\n      <td>3</td>\n      <td>2013-01-01</td>\n      <td>1</td>\n      <td>BEVERAGES</td>\n      <td>0.000</td>\n      <td>0</td>\n      <td>Quito</td>\n      <td>Pichincha</td>\n      <td>D</td>\n      <td>13</td>\n      <td>True</td>\n      <td>93.14</td>\n    </tr>\n    <tr>\n      <th>4</th>\n      <td>4</td>\n      <td>2013-01-01</td>\n      <td>1</td>\n      <td>BOOKS</td>\n      <td>0.000</td>\n      <td>0</td>\n      <td>Quito</td>\n      <td>Pichincha</td>\n      <td>D</td>\n      <td>13</td>\n      <td>True</td>\n      <td>93.14</td>\n    </tr>\n    <tr>\n      <th>...</th>\n      <td>...</td>\n      <td>...</td>\n      <td>...</td>\n      <td>...</td>\n      <td>...</td>\n      <td>...</td>\n      <td>...</td>\n      <td>...</td>\n      <td>...</td>\n      <td>...</td>\n      <td>...</td>\n      <td>...</td>\n    </tr>\n    <tr>\n      <th>3000883</th>\n      <td>3000883</td>\n      <td>2017-08-15</td>\n      <td>9</td>\n      <td>POULTRY</td>\n      <td>438.133</td>\n      <td>0</td>\n      <td>Quito</td>\n      <td>Pichincha</td>\n      <td>B</td>\n      <td>6</td>\n      <td>False</td>\n      <td>47.57</td>\n    </tr>\n    <tr>\n      <th>3000884</th>\n      <td>3000884</td>\n      <td>2017-08-15</td>\n      <td>9</td>\n      <td>PREPARED FOODS</td>\n      <td>154.553</td>\n      <td>1</td>\n      <td>Quito</td>\n      <td>Pichincha</td>\n      <td>B</td>\n      <td>6</td>\n      <td>False</td>\n      <td>47.57</td>\n    </tr>\n    <tr>\n      <th>3000885</th>\n      <td>3000885</td>\n      <td>2017-08-15</td>\n      <td>9</td>\n      <td>PRODUCE</td>\n      <td>2419.729</td>\n      <td>148</td>\n      <td>Quito</td>\n      <td>Pichincha</td>\n      <td>B</td>\n      <td>6</td>\n      <td>False</td>\n      <td>47.57</td>\n    </tr>\n    <tr>\n      <th>3000886</th>\n      <td>3000886</td>\n      <td>2017-08-15</td>\n      <td>9</td>\n      <td>SCHOOL AND OFFICE SUPPLIES</td>\n      <td>121.000</td>\n      <td>8</td>\n      <td>Quito</td>\n      <td>Pichincha</td>\n      <td>B</td>\n      <td>6</td>\n      <td>False</td>\n      <td>47.57</td>\n    </tr>\n    <tr>\n      <th>3000887</th>\n      <td>3000887</td>\n      <td>2017-08-15</td>\n      <td>9</td>\n      <td>SEAFOOD</td>\n      <td>16.000</td>\n      <td>0</td>\n      <td>Quito</td>\n      <td>Pichincha</td>\n      <td>B</td>\n      <td>6</td>\n      <td>False</td>\n      <td>47.57</td>\n    </tr>\n  </tbody>\n</table>\n<p>3000888 rows × 12 columns</p>\n</div>"
     },
     "execution_count": 20,
     "metadata": {},
     "output_type": "execute_result"
    }
   ],
   "source": [
    "merged_train"
   ],
   "metadata": {
    "collapsed": false
   }
  },
  {
   "cell_type": "code",
   "execution_count": 21,
   "outputs": [],
   "source": [
    "from sklearn.model_selection import train_test_split\n",
    "\n",
    "X = merged_train.drop(columns=['date', 'sales'])\n",
    "y = merged_train['sales']\n",
    "\n",
    "X_train, X_test, y_train, y_test = train_test_split(X, y, test_size=0.2, random_state=42)"
   ],
   "metadata": {
    "collapsed": false
   }
  },
  {
   "cell_type": "code",
   "execution_count": 22,
   "outputs": [],
   "source": [
    "from catboost import CatBoostRegressor\n",
    "\n",
    "categorical_features = ['store_nbr', 'family', 'city', 'state', 'type', 'cluster']\n",
    "\n",
    "# model = CatBoostRegressor(iterations=1000, depth=10, learning_rate=0.05, loss_function='RMSE')\n",
    "# model.fit(X_train, y_train, cat_features=categorical_features, eval_set=(X_test, y_test), verbose=100, early_stopping_rounds=10)"
   ],
   "metadata": {
    "collapsed": false
   }
  },
  {
   "cell_type": "code",
   "execution_count": 23,
   "outputs": [],
   "source": [
    "# y_pred = model.predict(X_test)\n",
    "from sklearn.metrics import mean_squared_error\n",
    "# print('The RMSE of prediction is:', mean_squared_error(y_test, y_pred) ** 0.5)"
   ],
   "metadata": {
    "collapsed": false
   }
  },
  {
   "cell_type": "code",
   "execution_count": 24,
   "outputs": [],
   "source": [
    "merged_test = test.merge(stores, on='store_nbr', how='left')"
   ],
   "metadata": {
    "collapsed": false
   }
  },
  {
   "cell_type": "code",
   "execution_count": 25,
   "outputs": [],
   "source": [
    "merged_test['isHoliday'] = merged_test.apply(check_holiday, axis=1)"
   ],
   "metadata": {
    "collapsed": false
   }
  },
  {
   "cell_type": "code",
   "execution_count": 26,
   "outputs": [
    {
     "data": {
      "text/plain": "id             0\ndate           0\nstore_nbr      0\nfamily         0\nonpromotion    0\ncity           0\nstate          0\ntype           0\ncluster        0\nisHoliday      0\ndtype: int64"
     },
     "execution_count": 26,
     "metadata": {},
     "output_type": "execute_result"
    }
   ],
   "source": [
    "merged_test.isna().sum()"
   ],
   "metadata": {
    "collapsed": false
   }
  },
  {
   "cell_type": "code",
   "execution_count": 27,
   "outputs": [],
   "source": [
    "merged_test['date'] = pd.to_datetime(merged_test['date'])"
   ],
   "metadata": {
    "collapsed": false
   }
  },
  {
   "cell_type": "code",
   "execution_count": 28,
   "outputs": [],
   "source": [
    "merged_test = merged_test.merge(oil_test, on='date', how='left')"
   ],
   "metadata": {
    "collapsed": false
   }
  },
  {
   "cell_type": "code",
   "execution_count": 29,
   "outputs": [
    {
     "data": {
      "text/plain": "id             0\ndate           0\nstore_nbr      0\nfamily         0\nonpromotion    0\ncity           0\nstate          0\ntype           0\ncluster        0\nisHoliday      0\ndcoilwtico     0\ndtype: int64"
     },
     "execution_count": 29,
     "metadata": {},
     "output_type": "execute_result"
    }
   ],
   "source": [
    "merged_test.isna().sum()"
   ],
   "metadata": {
    "collapsed": false
   }
  },
  {
   "cell_type": "code",
   "execution_count": 30,
   "outputs": [
    {
     "data": {
      "text/plain": "            id       date  store_nbr                      family  onpromotion  \\\n0      3000888 2017-08-16          1                  AUTOMOTIVE            0   \n1      3000889 2017-08-16          1                   BABY CARE            0   \n2      3000890 2017-08-16          1                      BEAUTY            2   \n3      3000891 2017-08-16          1                   BEVERAGES           20   \n4      3000892 2017-08-16          1                       BOOKS            0   \n...        ...        ...        ...                         ...          ...   \n28507  3029395 2017-08-31          9                     POULTRY            1   \n28508  3029396 2017-08-31          9              PREPARED FOODS            0   \n28509  3029397 2017-08-31          9                     PRODUCE            1   \n28510  3029398 2017-08-31          9  SCHOOL AND OFFICE SUPPLIES            9   \n28511  3029399 2017-08-31          9                     SEAFOOD            0   \n\n        city      state type  cluster  isHoliday  dcoilwtico  \n0      Quito  Pichincha    D       13      False       46.80  \n1      Quito  Pichincha    D       13      False       46.80  \n2      Quito  Pichincha    D       13      False       46.80  \n3      Quito  Pichincha    D       13      False       46.80  \n4      Quito  Pichincha    D       13      False       46.80  \n...      ...        ...  ...      ...        ...         ...  \n28507  Quito  Pichincha    B        6      False       47.26  \n28508  Quito  Pichincha    B        6      False       47.26  \n28509  Quito  Pichincha    B        6      False       47.26  \n28510  Quito  Pichincha    B        6      False       47.26  \n28511  Quito  Pichincha    B        6      False       47.26  \n\n[28512 rows x 11 columns]",
      "text/html": "<div>\n<style scoped>\n    .dataframe tbody tr th:only-of-type {\n        vertical-align: middle;\n    }\n\n    .dataframe tbody tr th {\n        vertical-align: top;\n    }\n\n    .dataframe thead th {\n        text-align: right;\n    }\n</style>\n<table border=\"1\" class=\"dataframe\">\n  <thead>\n    <tr style=\"text-align: right;\">\n      <th></th>\n      <th>id</th>\n      <th>date</th>\n      <th>store_nbr</th>\n      <th>family</th>\n      <th>onpromotion</th>\n      <th>city</th>\n      <th>state</th>\n      <th>type</th>\n      <th>cluster</th>\n      <th>isHoliday</th>\n      <th>dcoilwtico</th>\n    </tr>\n  </thead>\n  <tbody>\n    <tr>\n      <th>0</th>\n      <td>3000888</td>\n      <td>2017-08-16</td>\n      <td>1</td>\n      <td>AUTOMOTIVE</td>\n      <td>0</td>\n      <td>Quito</td>\n      <td>Pichincha</td>\n      <td>D</td>\n      <td>13</td>\n      <td>False</td>\n      <td>46.80</td>\n    </tr>\n    <tr>\n      <th>1</th>\n      <td>3000889</td>\n      <td>2017-08-16</td>\n      <td>1</td>\n      <td>BABY CARE</td>\n      <td>0</td>\n      <td>Quito</td>\n      <td>Pichincha</td>\n      <td>D</td>\n      <td>13</td>\n      <td>False</td>\n      <td>46.80</td>\n    </tr>\n    <tr>\n      <th>2</th>\n      <td>3000890</td>\n      <td>2017-08-16</td>\n      <td>1</td>\n      <td>BEAUTY</td>\n      <td>2</td>\n      <td>Quito</td>\n      <td>Pichincha</td>\n      <td>D</td>\n      <td>13</td>\n      <td>False</td>\n      <td>46.80</td>\n    </tr>\n    <tr>\n      <th>3</th>\n      <td>3000891</td>\n      <td>2017-08-16</td>\n      <td>1</td>\n      <td>BEVERAGES</td>\n      <td>20</td>\n      <td>Quito</td>\n      <td>Pichincha</td>\n      <td>D</td>\n      <td>13</td>\n      <td>False</td>\n      <td>46.80</td>\n    </tr>\n    <tr>\n      <th>4</th>\n      <td>3000892</td>\n      <td>2017-08-16</td>\n      <td>1</td>\n      <td>BOOKS</td>\n      <td>0</td>\n      <td>Quito</td>\n      <td>Pichincha</td>\n      <td>D</td>\n      <td>13</td>\n      <td>False</td>\n      <td>46.80</td>\n    </tr>\n    <tr>\n      <th>...</th>\n      <td>...</td>\n      <td>...</td>\n      <td>...</td>\n      <td>...</td>\n      <td>...</td>\n      <td>...</td>\n      <td>...</td>\n      <td>...</td>\n      <td>...</td>\n      <td>...</td>\n      <td>...</td>\n    </tr>\n    <tr>\n      <th>28507</th>\n      <td>3029395</td>\n      <td>2017-08-31</td>\n      <td>9</td>\n      <td>POULTRY</td>\n      <td>1</td>\n      <td>Quito</td>\n      <td>Pichincha</td>\n      <td>B</td>\n      <td>6</td>\n      <td>False</td>\n      <td>47.26</td>\n    </tr>\n    <tr>\n      <th>28508</th>\n      <td>3029396</td>\n      <td>2017-08-31</td>\n      <td>9</td>\n      <td>PREPARED FOODS</td>\n      <td>0</td>\n      <td>Quito</td>\n      <td>Pichincha</td>\n      <td>B</td>\n      <td>6</td>\n      <td>False</td>\n      <td>47.26</td>\n    </tr>\n    <tr>\n      <th>28509</th>\n      <td>3029397</td>\n      <td>2017-08-31</td>\n      <td>9</td>\n      <td>PRODUCE</td>\n      <td>1</td>\n      <td>Quito</td>\n      <td>Pichincha</td>\n      <td>B</td>\n      <td>6</td>\n      <td>False</td>\n      <td>47.26</td>\n    </tr>\n    <tr>\n      <th>28510</th>\n      <td>3029398</td>\n      <td>2017-08-31</td>\n      <td>9</td>\n      <td>SCHOOL AND OFFICE SUPPLIES</td>\n      <td>9</td>\n      <td>Quito</td>\n      <td>Pichincha</td>\n      <td>B</td>\n      <td>6</td>\n      <td>False</td>\n      <td>47.26</td>\n    </tr>\n    <tr>\n      <th>28511</th>\n      <td>3029399</td>\n      <td>2017-08-31</td>\n      <td>9</td>\n      <td>SEAFOOD</td>\n      <td>0</td>\n      <td>Quito</td>\n      <td>Pichincha</td>\n      <td>B</td>\n      <td>6</td>\n      <td>False</td>\n      <td>47.26</td>\n    </tr>\n  </tbody>\n</table>\n<p>28512 rows × 11 columns</p>\n</div>"
     },
     "execution_count": 30,
     "metadata": {},
     "output_type": "execute_result"
    }
   ],
   "source": [
    "merged_test"
   ],
   "metadata": {
    "collapsed": false
   }
  },
  {
   "cell_type": "code",
   "execution_count": 31,
   "outputs": [
    {
     "data": {
      "text/plain": "              id       date  store_nbr                      family     sales  \\\n0              0 2013-01-01          1                  AUTOMOTIVE     0.000   \n1              1 2013-01-01          1                   BABY CARE     0.000   \n2              2 2013-01-01          1                      BEAUTY     0.000   \n3              3 2013-01-01          1                   BEVERAGES     0.000   \n4              4 2013-01-01          1                       BOOKS     0.000   \n...          ...        ...        ...                         ...       ...   \n3000883  3000883 2017-08-15          9                     POULTRY   438.133   \n3000884  3000884 2017-08-15          9              PREPARED FOODS   154.553   \n3000885  3000885 2017-08-15          9                     PRODUCE  2419.729   \n3000886  3000886 2017-08-15          9  SCHOOL AND OFFICE SUPPLIES   121.000   \n3000887  3000887 2017-08-15          9                     SEAFOOD    16.000   \n\n         onpromotion   city      state type  cluster  isHoliday  dcoilwtico  \n0                  0  Quito  Pichincha    D       13       True       93.14  \n1                  0  Quito  Pichincha    D       13       True       93.14  \n2                  0  Quito  Pichincha    D       13       True       93.14  \n3                  0  Quito  Pichincha    D       13       True       93.14  \n4                  0  Quito  Pichincha    D       13       True       93.14  \n...              ...    ...        ...  ...      ...        ...         ...  \n3000883            0  Quito  Pichincha    B        6      False       47.57  \n3000884            1  Quito  Pichincha    B        6      False       47.57  \n3000885          148  Quito  Pichincha    B        6      False       47.57  \n3000886            8  Quito  Pichincha    B        6      False       47.57  \n3000887            0  Quito  Pichincha    B        6      False       47.57  \n\n[3000888 rows x 12 columns]",
      "text/html": "<div>\n<style scoped>\n    .dataframe tbody tr th:only-of-type {\n        vertical-align: middle;\n    }\n\n    .dataframe tbody tr th {\n        vertical-align: top;\n    }\n\n    .dataframe thead th {\n        text-align: right;\n    }\n</style>\n<table border=\"1\" class=\"dataframe\">\n  <thead>\n    <tr style=\"text-align: right;\">\n      <th></th>\n      <th>id</th>\n      <th>date</th>\n      <th>store_nbr</th>\n      <th>family</th>\n      <th>sales</th>\n      <th>onpromotion</th>\n      <th>city</th>\n      <th>state</th>\n      <th>type</th>\n      <th>cluster</th>\n      <th>isHoliday</th>\n      <th>dcoilwtico</th>\n    </tr>\n  </thead>\n  <tbody>\n    <tr>\n      <th>0</th>\n      <td>0</td>\n      <td>2013-01-01</td>\n      <td>1</td>\n      <td>AUTOMOTIVE</td>\n      <td>0.000</td>\n      <td>0</td>\n      <td>Quito</td>\n      <td>Pichincha</td>\n      <td>D</td>\n      <td>13</td>\n      <td>True</td>\n      <td>93.14</td>\n    </tr>\n    <tr>\n      <th>1</th>\n      <td>1</td>\n      <td>2013-01-01</td>\n      <td>1</td>\n      <td>BABY CARE</td>\n      <td>0.000</td>\n      <td>0</td>\n      <td>Quito</td>\n      <td>Pichincha</td>\n      <td>D</td>\n      <td>13</td>\n      <td>True</td>\n      <td>93.14</td>\n    </tr>\n    <tr>\n      <th>2</th>\n      <td>2</td>\n      <td>2013-01-01</td>\n      <td>1</td>\n      <td>BEAUTY</td>\n      <td>0.000</td>\n      <td>0</td>\n      <td>Quito</td>\n      <td>Pichincha</td>\n      <td>D</td>\n      <td>13</td>\n      <td>True</td>\n      <td>93.14</td>\n    </tr>\n    <tr>\n      <th>3</th>\n      <td>3</td>\n      <td>2013-01-01</td>\n      <td>1</td>\n      <td>BEVERAGES</td>\n      <td>0.000</td>\n      <td>0</td>\n      <td>Quito</td>\n      <td>Pichincha</td>\n      <td>D</td>\n      <td>13</td>\n      <td>True</td>\n      <td>93.14</td>\n    </tr>\n    <tr>\n      <th>4</th>\n      <td>4</td>\n      <td>2013-01-01</td>\n      <td>1</td>\n      <td>BOOKS</td>\n      <td>0.000</td>\n      <td>0</td>\n      <td>Quito</td>\n      <td>Pichincha</td>\n      <td>D</td>\n      <td>13</td>\n      <td>True</td>\n      <td>93.14</td>\n    </tr>\n    <tr>\n      <th>...</th>\n      <td>...</td>\n      <td>...</td>\n      <td>...</td>\n      <td>...</td>\n      <td>...</td>\n      <td>...</td>\n      <td>...</td>\n      <td>...</td>\n      <td>...</td>\n      <td>...</td>\n      <td>...</td>\n      <td>...</td>\n    </tr>\n    <tr>\n      <th>3000883</th>\n      <td>3000883</td>\n      <td>2017-08-15</td>\n      <td>9</td>\n      <td>POULTRY</td>\n      <td>438.133</td>\n      <td>0</td>\n      <td>Quito</td>\n      <td>Pichincha</td>\n      <td>B</td>\n      <td>6</td>\n      <td>False</td>\n      <td>47.57</td>\n    </tr>\n    <tr>\n      <th>3000884</th>\n      <td>3000884</td>\n      <td>2017-08-15</td>\n      <td>9</td>\n      <td>PREPARED FOODS</td>\n      <td>154.553</td>\n      <td>1</td>\n      <td>Quito</td>\n      <td>Pichincha</td>\n      <td>B</td>\n      <td>6</td>\n      <td>False</td>\n      <td>47.57</td>\n    </tr>\n    <tr>\n      <th>3000885</th>\n      <td>3000885</td>\n      <td>2017-08-15</td>\n      <td>9</td>\n      <td>PRODUCE</td>\n      <td>2419.729</td>\n      <td>148</td>\n      <td>Quito</td>\n      <td>Pichincha</td>\n      <td>B</td>\n      <td>6</td>\n      <td>False</td>\n      <td>47.57</td>\n    </tr>\n    <tr>\n      <th>3000886</th>\n      <td>3000886</td>\n      <td>2017-08-15</td>\n      <td>9</td>\n      <td>SCHOOL AND OFFICE SUPPLIES</td>\n      <td>121.000</td>\n      <td>8</td>\n      <td>Quito</td>\n      <td>Pichincha</td>\n      <td>B</td>\n      <td>6</td>\n      <td>False</td>\n      <td>47.57</td>\n    </tr>\n    <tr>\n      <th>3000887</th>\n      <td>3000887</td>\n      <td>2017-08-15</td>\n      <td>9</td>\n      <td>SEAFOOD</td>\n      <td>16.000</td>\n      <td>0</td>\n      <td>Quito</td>\n      <td>Pichincha</td>\n      <td>B</td>\n      <td>6</td>\n      <td>False</td>\n      <td>47.57</td>\n    </tr>\n  </tbody>\n</table>\n<p>3000888 rows × 12 columns</p>\n</div>"
     },
     "execution_count": 31,
     "metadata": {},
     "output_type": "execute_result"
    }
   ],
   "source": [
    "merged_train"
   ],
   "metadata": {
    "collapsed": false
   }
  },
  {
   "cell_type": "code",
   "execution_count": 32,
   "outputs": [],
   "source": [
    "test_end = merged_test.drop(columns=['date'])"
   ],
   "metadata": {
    "collapsed": false
   }
  },
  {
   "cell_type": "code",
   "execution_count": 106,
   "outputs": [],
   "source": [
    "# new_data_predictions = model.predict(test_end)"
   ],
   "metadata": {
    "collapsed": false
   }
  },
  {
   "cell_type": "code",
   "execution_count": 107,
   "outputs": [
    {
     "data": {
      "text/plain": "array([ -14.57297712,  -17.62038046,  -16.74172151, ..., 1465.28239896,\n         53.7785436 ,    3.12809421])"
     },
     "execution_count": 107,
     "metadata": {},
     "output_type": "execute_result"
    }
   ],
   "source": [
    "# new_data_predictions"
   ],
   "metadata": {
    "collapsed": false
   }
  },
  {
   "cell_type": "code",
   "execution_count": 111,
   "outputs": [],
   "source": [
    "# sub_1 = pd.DataFrame({\n",
    "#     'id': test_end['id'].values,\n",
    "#     'sales': new_data_predictions\n",
    "# })"
   ],
   "metadata": {
    "collapsed": false
   }
  },
  {
   "cell_type": "code",
   "execution_count": 113,
   "outputs": [],
   "source": [
    "# sub_1['sales'] = sub_1['sales'].apply(lambda x: max(0, x))"
   ],
   "metadata": {
    "collapsed": false
   }
  },
  {
   "cell_type": "code",
   "execution_count": 114,
   "outputs": [
    {
     "data": {
      "text/plain": "            id        sales\n0      3000888     0.000000\n1      3000889     0.000000\n2      3000890     0.000000\n3      3000891  2357.486769\n4      3000892     0.000000\n...        ...          ...\n28507  3029395   277.628270\n28508  3029396    76.153093\n28509  3029397  1465.282399\n28510  3029398    53.778544\n28511  3029399     3.128094\n\n[28512 rows x 2 columns]",
      "text/html": "<div>\n<style scoped>\n    .dataframe tbody tr th:only-of-type {\n        vertical-align: middle;\n    }\n\n    .dataframe tbody tr th {\n        vertical-align: top;\n    }\n\n    .dataframe thead th {\n        text-align: right;\n    }\n</style>\n<table border=\"1\" class=\"dataframe\">\n  <thead>\n    <tr style=\"text-align: right;\">\n      <th></th>\n      <th>id</th>\n      <th>sales</th>\n    </tr>\n  </thead>\n  <tbody>\n    <tr>\n      <th>0</th>\n      <td>3000888</td>\n      <td>0.000000</td>\n    </tr>\n    <tr>\n      <th>1</th>\n      <td>3000889</td>\n      <td>0.000000</td>\n    </tr>\n    <tr>\n      <th>2</th>\n      <td>3000890</td>\n      <td>0.000000</td>\n    </tr>\n    <tr>\n      <th>3</th>\n      <td>3000891</td>\n      <td>2357.486769</td>\n    </tr>\n    <tr>\n      <th>4</th>\n      <td>3000892</td>\n      <td>0.000000</td>\n    </tr>\n    <tr>\n      <th>...</th>\n      <td>...</td>\n      <td>...</td>\n    </tr>\n    <tr>\n      <th>28507</th>\n      <td>3029395</td>\n      <td>277.628270</td>\n    </tr>\n    <tr>\n      <th>28508</th>\n      <td>3029396</td>\n      <td>76.153093</td>\n    </tr>\n    <tr>\n      <th>28509</th>\n      <td>3029397</td>\n      <td>1465.282399</td>\n    </tr>\n    <tr>\n      <th>28510</th>\n      <td>3029398</td>\n      <td>53.778544</td>\n    </tr>\n    <tr>\n      <th>28511</th>\n      <td>3029399</td>\n      <td>3.128094</td>\n    </tr>\n  </tbody>\n</table>\n<p>28512 rows × 2 columns</p>\n</div>"
     },
     "execution_count": 114,
     "metadata": {},
     "output_type": "execute_result"
    }
   ],
   "source": [
    "# sub_1"
   ],
   "metadata": {
    "collapsed": false
   }
  },
  {
   "cell_type": "code",
   "execution_count": 115,
   "outputs": [],
   "source": [
    "# sub_1.to_csv(\"sub_1.csv\", index=False)"
   ],
   "metadata": {
    "collapsed": false
   }
  },
  {
   "cell_type": "code",
   "execution_count": 33,
   "outputs": [],
   "source": [
    "y_train_log = np.log1p(y_train)\n",
    "y_test_log = np.log1p(y_test)"
   ],
   "metadata": {
    "collapsed": false
   }
  },
  {
   "cell_type": "code",
   "execution_count": 63,
   "outputs": [
    {
     "name": "stdout",
     "output_type": "stream",
     "text": [
      "0:\tlearn: 2.6851799\ttest: 2.6870041\tbest: 2.6870041 (0)\ttotal: 6.39s\tremaining: 17h 45m 50s\n",
      "100:\tlearn: 1.9725096\ttest: 1.9730470\tbest: 1.9730470 (100)\ttotal: 1m 52s\tremaining: 3h 4m 31s\n",
      "200:\tlearn: 1.5803261\ttest: 1.5799204\tbest: 1.5799204 (200)\ttotal: 3m 39s\tremaining: 2h 58m 22s\n",
      "300:\tlearn: 1.3531976\ttest: 1.3520845\tbest: 1.3520845 (300)\ttotal: 5m 29s\tremaining: 2h 57m 5s\n",
      "400:\tlearn: 1.2267002\ttest: 1.2246975\tbest: 1.2246975 (400)\ttotal: 7m 42s\tremaining: 3h 4m 27s\n",
      "500:\tlearn: 1.1554803\ttest: 1.1528508\tbest: 1.1528508 (500)\ttotal: 9m 55s\tremaining: 3h 8m 16s\n",
      "600:\tlearn: 1.1086653\ttest: 1.1056402\tbest: 1.1056402 (600)\ttotal: 12m 21s\tremaining: 3h 13m 21s\n",
      "700:\tlearn: 1.0809659\ttest: 1.0777272\tbest: 1.0777272 (700)\ttotal: 14m 28s\tremaining: 3h 11m 58s\n",
      "800:\tlearn: 1.0505869\ttest: 1.0472604\tbest: 1.0472604 (800)\ttotal: 17m 2s\tremaining: 3h 15m 38s\n",
      "900:\tlearn: 1.0284942\ttest: 1.0249873\tbest: 1.0249873 (900)\ttotal: 19m 25s\tremaining: 3h 16m 8s\n",
      "1000:\tlearn: 1.0141135\ttest: 1.0104206\tbest: 1.0104206 (1000)\ttotal: 21m 35s\tremaining: 3h 14m 9s\n",
      "1100:\tlearn: 1.0032227\ttest: 0.9993341\tbest: 0.9993341 (1100)\ttotal: 24m 3s\tremaining: 3h 14m 30s\n",
      "1200:\tlearn: 0.9914815\ttest: 0.9872988\tbest: 0.9872988 (1200)\ttotal: 26m 35s\tremaining: 3h 14m 46s\n",
      "1300:\tlearn: 0.9774377\ttest: 0.9728973\tbest: 0.9728973 (1300)\ttotal: 29m 17s\tremaining: 3h 15m 49s\n",
      "1400:\tlearn: 0.9650130\ttest: 0.9601449\tbest: 0.9601449 (1400)\ttotal: 31m 45s\tremaining: 3h 14m 57s\n",
      "1500:\tlearn: 0.9538971\ttest: 0.9488112\tbest: 0.9488112 (1500)\ttotal: 34m 19s\tremaining: 3h 14m 23s\n",
      "1600:\tlearn: 0.9441201\ttest: 0.9388062\tbest: 0.9388062 (1600)\ttotal: 36m 47s\tremaining: 3h 13m 1s\n",
      "1700:\tlearn: 0.9362891\ttest: 0.9308034\tbest: 0.9308034 (1700)\ttotal: 39m 19s\tremaining: 3h 11m 52s\n",
      "1800:\tlearn: 0.9293612\ttest: 0.9238103\tbest: 0.9238103 (1800)\ttotal: 42m 2s\tremaining: 3h 11m 23s\n",
      "1900:\tlearn: 0.9227181\ttest: 0.9171455\tbest: 0.9171455 (1900)\ttotal: 44m 38s\tremaining: 3h 10m 12s\n",
      "2000:\tlearn: 0.9168509\ttest: 0.9112057\tbest: 0.9112057 (2000)\ttotal: 47m 13s\tremaining: 3h 8m 47s\n",
      "2100:\tlearn: 0.9119498\ttest: 0.9062456\tbest: 0.9062456 (2100)\ttotal: 49m 53s\tremaining: 3h 7m 35s\n",
      "2200:\tlearn: 0.9072890\ttest: 0.9014996\tbest: 0.9014996 (2200)\ttotal: 52m 35s\tremaining: 3h 6m 20s\n",
      "2300:\tlearn: 0.9027198\ttest: 0.8967970\tbest: 0.8967970 (2300)\ttotal: 55m 16s\tremaining: 3h 4m 57s\n",
      "2400:\tlearn: 0.8985740\ttest: 0.8925934\tbest: 0.8925934 (2400)\ttotal: 57m 48s\tremaining: 3h 2m 57s\n",
      "2500:\tlearn: 0.8938014\ttest: 0.8877848\tbest: 0.8877848 (2500)\ttotal: 1h 10s\tremaining: 3h 26s\n",
      "2600:\tlearn: 0.8895304\ttest: 0.8835296\tbest: 0.8835296 (2600)\ttotal: 1h 2m 34s\tremaining: 2h 57m 59s\n",
      "2700:\tlearn: 0.8855978\ttest: 0.8796039\tbest: 0.8796039 (2700)\ttotal: 1h 5m 4s\tremaining: 2h 55m 49s\n",
      "2800:\tlearn: 0.8813905\ttest: 0.8754041\tbest: 0.8754041 (2800)\ttotal: 1h 7m 26s\tremaining: 2h 53m 19s\n",
      "2900:\tlearn: 0.8781123\ttest: 0.8720982\tbest: 0.8720982 (2900)\ttotal: 1h 9m 59s\tremaining: 2h 51m 16s\n",
      "3000:\tlearn: 0.8748412\ttest: 0.8688082\tbest: 0.8688082 (3000)\ttotal: 1h 12m 46s\tremaining: 2h 49m 44s\n",
      "3100:\tlearn: 0.8719356\ttest: 0.8658859\tbest: 0.8658859 (3100)\ttotal: 1h 15m 29s\tremaining: 2h 47m 56s\n",
      "3200:\tlearn: 0.8687359\ttest: 0.8626657\tbest: 0.8626657 (3200)\ttotal: 1h 18m 8s\tremaining: 2h 45m 59s\n",
      "3300:\tlearn: 0.8656228\ttest: 0.8595371\tbest: 0.8595371 (3300)\ttotal: 1h 20m 55s\tremaining: 2h 44m 13s\n",
      "3400:\tlearn: 0.8625954\ttest: 0.8565114\tbest: 0.8565114 (3400)\ttotal: 1h 23m 48s\tremaining: 2h 42m 36s\n",
      "3500:\tlearn: 0.8601186\ttest: 0.8540119\tbest: 0.8540119 (3500)\ttotal: 1h 26m 29s\tremaining: 2h 40m 32s\n",
      "3600:\tlearn: 0.8574592\ttest: 0.8513255\tbest: 0.8513255 (3600)\ttotal: 1h 29m 21s\tremaining: 2h 38m 47s\n",
      "3700:\tlearn: 0.8548766\ttest: 0.8487376\tbest: 0.8487376 (3700)\ttotal: 1h 32m 5s\tremaining: 2h 36m 44s\n",
      "3800:\tlearn: 0.8520482\ttest: 0.8458903\tbest: 0.8458903 (3800)\ttotal: 1h 34m 38s\tremaining: 2h 34m 20s\n",
      "3900:\tlearn: 0.8493791\ttest: 0.8432011\tbest: 0.8432011 (3900)\ttotal: 1h 37m 12s\tremaining: 2h 31m 59s\n",
      "4000:\tlearn: 0.8467241\ttest: 0.8405306\tbest: 0.8405306 (4000)\ttotal: 1h 39m 50s\tremaining: 2h 29m 42s\n",
      "4100:\tlearn: 0.8441082\ttest: 0.8379447\tbest: 0.8379447 (4100)\ttotal: 1h 42m 24s\tremaining: 2h 27m 17s\n",
      "4200:\tlearn: 0.8415848\ttest: 0.8354423\tbest: 0.8354423 (4200)\ttotal: 1h 45m 3s\tremaining: 2h 25m\n",
      "4300:\tlearn: 0.8393087\ttest: 0.8331947\tbest: 0.8331947 (4300)\ttotal: 1h 47m 37s\tremaining: 2h 22m 36s\n",
      "4400:\tlearn: 0.8366986\ttest: 0.8306208\tbest: 0.8306208 (4400)\ttotal: 1h 50m 15s\tremaining: 2h 20m 16s\n",
      "4500:\tlearn: 0.8341358\ttest: 0.8281164\tbest: 0.8281164 (4500)\ttotal: 1h 52m 49s\tremaining: 2h 17m 50s\n",
      "4600:\tlearn: 0.8316805\ttest: 0.8256992\tbest: 0.8256992 (4600)\ttotal: 1h 55m 32s\tremaining: 2h 15m 34s\n",
      "4700:\tlearn: 0.8294640\ttest: 0.8234899\tbest: 0.8234899 (4700)\ttotal: 1h 58m 22s\tremaining: 2h 13m 26s\n",
      "4800:\tlearn: 0.8274113\ttest: 0.8214830\tbest: 0.8214830 (4800)\ttotal: 2h 1m 4s\tremaining: 2h 11m 6s\n",
      "4900:\tlearn: 0.8252967\ttest: 0.8194069\tbest: 0.8194069 (4900)\ttotal: 2h 3m 35s\tremaining: 2h 8m 35s\n",
      "5000:\tlearn: 0.8236226\ttest: 0.8177449\tbest: 0.8177449 (5000)\ttotal: 2h 6m\tremaining: 2h 5m 57s\n",
      "5100:\tlearn: 0.8216311\ttest: 0.8157791\tbest: 0.8157791 (5100)\ttotal: 2h 8m 46s\tremaining: 2h 3m 40s\n",
      "5200:\tlearn: 0.8196451\ttest: 0.8138657\tbest: 0.8138657 (5200)\ttotal: 2h 11m 7s\tremaining: 2h 59s\n",
      "5300:\tlearn: 0.8174313\ttest: 0.8117041\tbest: 0.8117041 (5300)\ttotal: 2h 13m 22s\tremaining: 1h 58m 14s\n",
      "5400:\tlearn: 0.8156588\ttest: 0.8099087\tbest: 0.8099087 (5400)\ttotal: 2h 15m 38s\tremaining: 1h 55m 29s\n",
      "5500:\tlearn: 0.8138388\ttest: 0.8080554\tbest: 0.8080554 (5500)\ttotal: 2h 17m 54s\tremaining: 1h 52m 47s\n",
      "5600:\tlearn: 0.8123687\ttest: 0.8065622\tbest: 0.8065622 (5600)\ttotal: 2h 20m 15s\tremaining: 1h 50m 9s\n",
      "5700:\tlearn: 0.8107691\ttest: 0.8049776\tbest: 0.8049776 (5700)\ttotal: 2h 22m 51s\tremaining: 1h 47m 43s\n",
      "5800:\tlearn: 0.8091057\ttest: 0.8033213\tbest: 0.8033213 (5800)\ttotal: 2h 25m 34s\tremaining: 1h 45m 22s\n",
      "5900:\tlearn: 0.8075643\ttest: 0.8017792\tbest: 0.8017792 (5900)\ttotal: 2h 28m 21s\tremaining: 1h 43m 3s\n",
      "6000:\tlearn: 0.8059287\ttest: 0.8001098\tbest: 0.8001098 (6000)\ttotal: 2h 31m 9s\tremaining: 1h 40m 44s\n",
      "6100:\tlearn: 0.8042772\ttest: 0.7984571\tbest: 0.7984571 (6100)\ttotal: 2h 34m 2s\tremaining: 1h 38m 26s\n",
      "6200:\tlearn: 0.8026124\ttest: 0.7967978\tbest: 0.7967978 (6200)\ttotal: 2h 36m 31s\tremaining: 1h 35m 53s\n",
      "6300:\tlearn: 0.8009128\ttest: 0.7951236\tbest: 0.7951236 (6300)\ttotal: 2h 39m 9s\tremaining: 1h 33m 25s\n",
      "6400:\tlearn: 0.7994325\ttest: 0.7936674\tbest: 0.7936674 (6400)\ttotal: 2h 41m 41s\tremaining: 1h 30m 54s\n",
      "6500:\tlearn: 0.7979012\ttest: 0.7921480\tbest: 0.7921480 (6500)\ttotal: 2h 44m 17s\tremaining: 1h 28m 25s\n",
      "6600:\tlearn: 0.7966795\ttest: 0.7909061\tbest: 0.7909061 (6600)\ttotal: 2h 46m 53s\tremaining: 1h 25m 56s\n",
      "6700:\tlearn: 0.7952718\ttest: 0.7894604\tbest: 0.7894604 (6700)\ttotal: 2h 49m 26s\tremaining: 1h 23m 25s\n",
      "6800:\tlearn: 0.7937225\ttest: 0.7879236\tbest: 0.7879236 (6800)\ttotal: 2h 52m 4s\tremaining: 1h 20m 56s\n",
      "6900:\tlearn: 0.7923408\ttest: 0.7865469\tbest: 0.7865469 (6900)\ttotal: 2h 54m 46s\tremaining: 1h 18m 29s\n",
      "7000:\tlearn: 0.7910714\ttest: 0.7852864\tbest: 0.7852864 (7000)\ttotal: 2h 57m 24s\tremaining: 1h 15m 59s\n",
      "7100:\tlearn: 0.7899866\ttest: 0.7841748\tbest: 0.7841748 (7100)\ttotal: 3h 1s\tremaining: 1h 13m 29s\n",
      "7200:\tlearn: 0.7886063\ttest: 0.7827701\tbest: 0.7827701 (7200)\ttotal: 3h 2m 44s\tremaining: 1h 11m 1s\n",
      "7300:\tlearn: 0.7870200\ttest: 0.7811549\tbest: 0.7811549 (7300)\ttotal: 3h 5m 30s\tremaining: 1h 8m 34s\n",
      "7400:\tlearn: 0.7857181\ttest: 0.7798022\tbest: 0.7798022 (7400)\ttotal: 3h 8m 5s\tremaining: 1h 6m 3s\n",
      "7500:\tlearn: 0.7842050\ttest: 0.7782687\tbest: 0.7782687 (7500)\ttotal: 3h 10m 43s\tremaining: 1h 3m 32s\n",
      "7600:\tlearn: 0.7829329\ttest: 0.7769690\tbest: 0.7769690 (7600)\ttotal: 3h 13m 13s\tremaining: 1h 59s\n",
      "7700:\tlearn: 0.7816944\ttest: 0.7757255\tbest: 0.7757255 (7700)\ttotal: 3h 15m 53s\tremaining: 58m 28s\n",
      "7800:\tlearn: 0.7804291\ttest: 0.7744359\tbest: 0.7744359 (7800)\ttotal: 3h 18m 22s\tremaining: 55m 55s\n",
      "7900:\tlearn: 0.7790010\ttest: 0.7729728\tbest: 0.7729728 (7900)\ttotal: 3h 20m 48s\tremaining: 53m 20s\n",
      "8000:\tlearn: 0.7775915\ttest: 0.7715262\tbest: 0.7715262 (8000)\ttotal: 3h 23m 27s\tremaining: 50m 49s\n",
      "8100:\tlearn: 0.7760028\ttest: 0.7698651\tbest: 0.7698651 (8100)\ttotal: 3h 26m 11s\tremaining: 48m 20s\n",
      "8200:\tlearn: 0.7747695\ttest: 0.7685914\tbest: 0.7685914 (8200)\ttotal: 3h 28m 49s\tremaining: 45m 48s\n",
      "8300:\tlearn: 0.7730466\ttest: 0.7668221\tbest: 0.7668221 (8300)\ttotal: 3h 31m 14s\tremaining: 43m 14s\n",
      "8400:\tlearn: 0.7716396\ttest: 0.7653815\tbest: 0.7653815 (8400)\ttotal: 3h 33m 51s\tremaining: 40m 42s\n",
      "8500:\tlearn: 0.7704917\ttest: 0.7642178\tbest: 0.7642178 (8500)\ttotal: 3h 36m 27s\tremaining: 38m 10s\n",
      "8600:\tlearn: 0.7690022\ttest: 0.7627206\tbest: 0.7627206 (8600)\ttotal: 3h 39m 6s\tremaining: 35m 38s\n",
      "8700:\tlearn: 0.7675456\ttest: 0.7612520\tbest: 0.7612520 (8700)\ttotal: 3h 41m 35s\tremaining: 33m 4s\n",
      "8800:\tlearn: 0.7664529\ttest: 0.7601564\tbest: 0.7601564 (8800)\ttotal: 3h 44m 16s\tremaining: 30m 33s\n",
      "8900:\tlearn: 0.7652482\ttest: 0.7589390\tbest: 0.7589390 (8900)\ttotal: 3h 47m 8s\tremaining: 28m 2s\n",
      "9000:\tlearn: 0.7640517\ttest: 0.7577348\tbest: 0.7577348 (9000)\ttotal: 3h 49m 52s\tremaining: 25m 30s\n",
      "9100:\tlearn: 0.7627197\ttest: 0.7563858\tbest: 0.7563858 (9100)\ttotal: 3h 52m 31s\tremaining: 22m 58s\n",
      "9200:\tlearn: 0.7616060\ttest: 0.7552808\tbest: 0.7552808 (9200)\ttotal: 3h 55m 8s\tremaining: 20m 25s\n",
      "9300:\tlearn: 0.7606242\ttest: 0.7543210\tbest: 0.7543210 (9300)\ttotal: 3h 57m 46s\tremaining: 17m 52s\n",
      "9400:\tlearn: 0.7596084\ttest: 0.7533089\tbest: 0.7533089 (9400)\ttotal: 4h 28s\tremaining: 15m 19s\n",
      "9500:\tlearn: 0.7584678\ttest: 0.7521574\tbest: 0.7521574 (9500)\ttotal: 4h 2m 56s\tremaining: 12m 45s\n",
      "9600:\tlearn: 0.7574919\ttest: 0.7511790\tbest: 0.7511790 (9600)\ttotal: 4h 5m 24s\tremaining: 10m 11s\n",
      "9700:\tlearn: 0.7565372\ttest: 0.7502116\tbest: 0.7502116 (9700)\ttotal: 4h 7m 58s\tremaining: 7m 38s\n",
      "9800:\tlearn: 0.7555399\ttest: 0.7492313\tbest: 0.7492313 (9800)\ttotal: 4h 10m 30s\tremaining: 5m 5s\n",
      "9900:\tlearn: 0.7548338\ttest: 0.7485297\tbest: 0.7485297 (9900)\ttotal: 4h 13m 5s\tremaining: 2m 31s\n",
      "9999:\tlearn: 0.7539963\ttest: 0.7476975\tbest: 0.7476975 (9999)\ttotal: 4h 15m 50s\tremaining: 0us\n",
      "\n",
      "bestTest = 0.7476974767\n",
      "bestIteration = 9999\n",
      "\n"
     ]
    },
    {
     "data": {
      "text/plain": "<catboost.core.CatBoostRegressor at 0x1d33ba9dd50>"
     },
     "execution_count": 63,
     "metadata": {},
     "output_type": "execute_result"
    }
   ],
   "source": [
    "model = CatBoostRegressor(iterations=10000, depth=7, learning_rate=0.005, loss_function='RMSE')\n",
    "model.fit(X_train, y_train_log, cat_features=categorical_features, eval_set=(X_test, y_test_log), verbose=100, early_stopping_rounds=10)"
   ],
   "metadata": {
    "collapsed": false
   }
  },
  {
   "cell_type": "code",
   "execution_count": 54,
   "outputs": [],
   "source": [
    "y_pred_log = model.predict(test_end)"
   ],
   "metadata": {
    "collapsed": false
   }
  },
  {
   "cell_type": "code",
   "execution_count": 55,
   "outputs": [],
   "source": [
    "predictions = np.expm1(y_pred_log)"
   ],
   "metadata": {
    "collapsed": false
   }
  },
  {
   "cell_type": "code",
   "execution_count": 57,
   "outputs": [
    {
     "data": {
      "text/plain": "array([3.93828970e+00, 1.95890483e-01, 7.22570491e+00, ...,\n       1.27791727e+03, 5.86242166e+01, 2.07364475e+01])"
     },
     "execution_count": 57,
     "metadata": {},
     "output_type": "execute_result"
    }
   ],
   "source": [
    "predictions"
   ],
   "metadata": {
    "collapsed": false
   }
  },
  {
   "cell_type": "code",
   "execution_count": 58,
   "outputs": [],
   "source": [
    "sub_2 = pd.DataFrame({\n",
    "    'id': test_end['id'].values,\n",
    "    'sales': predictions\n",
    "})"
   ],
   "metadata": {
    "collapsed": false
   }
  },
  {
   "cell_type": "code",
   "execution_count": 59,
   "outputs": [
    {
     "data": {
      "text/plain": "            id        sales\n0      3000888     3.938290\n1      3000889     0.195890\n2      3000890     7.225705\n3      3000891  2339.400786\n4      3000892     0.195890\n...        ...          ...\n28507  3029395   250.260954\n28508  3029396   127.788575\n28509  3029397  1277.917270\n28510  3029398    58.624217\n28511  3029399    20.736447\n\n[28512 rows x 2 columns]",
      "text/html": "<div>\n<style scoped>\n    .dataframe tbody tr th:only-of-type {\n        vertical-align: middle;\n    }\n\n    .dataframe tbody tr th {\n        vertical-align: top;\n    }\n\n    .dataframe thead th {\n        text-align: right;\n    }\n</style>\n<table border=\"1\" class=\"dataframe\">\n  <thead>\n    <tr style=\"text-align: right;\">\n      <th></th>\n      <th>id</th>\n      <th>sales</th>\n    </tr>\n  </thead>\n  <tbody>\n    <tr>\n      <th>0</th>\n      <td>3000888</td>\n      <td>3.938290</td>\n    </tr>\n    <tr>\n      <th>1</th>\n      <td>3000889</td>\n      <td>0.195890</td>\n    </tr>\n    <tr>\n      <th>2</th>\n      <td>3000890</td>\n      <td>7.225705</td>\n    </tr>\n    <tr>\n      <th>3</th>\n      <td>3000891</td>\n      <td>2339.400786</td>\n    </tr>\n    <tr>\n      <th>4</th>\n      <td>3000892</td>\n      <td>0.195890</td>\n    </tr>\n    <tr>\n      <th>...</th>\n      <td>...</td>\n      <td>...</td>\n    </tr>\n    <tr>\n      <th>28507</th>\n      <td>3029395</td>\n      <td>250.260954</td>\n    </tr>\n    <tr>\n      <th>28508</th>\n      <td>3029396</td>\n      <td>127.788575</td>\n    </tr>\n    <tr>\n      <th>28509</th>\n      <td>3029397</td>\n      <td>1277.917270</td>\n    </tr>\n    <tr>\n      <th>28510</th>\n      <td>3029398</td>\n      <td>58.624217</td>\n    </tr>\n    <tr>\n      <th>28511</th>\n      <td>3029399</td>\n      <td>20.736447</td>\n    </tr>\n  </tbody>\n</table>\n<p>28512 rows × 2 columns</p>\n</div>"
     },
     "execution_count": 59,
     "metadata": {},
     "output_type": "execute_result"
    }
   ],
   "source": [
    "sub_2"
   ],
   "metadata": {
    "collapsed": false
   }
  },
  {
   "cell_type": "code",
   "execution_count": 60,
   "outputs": [],
   "source": [
    "sub_2['sales'] = sub_2['sales'].apply(lambda x: max(0, x))"
   ],
   "metadata": {
    "collapsed": false
   }
  },
  {
   "cell_type": "code",
   "execution_count": 62,
   "outputs": [],
   "source": [
    "sub_2.to_csv('sub_3.csv', index=False)"
   ],
   "metadata": {
    "collapsed": false
   }
  }
 ],
 "metadata": {
  "kernelspec": {
   "display_name": "Python 3",
   "language": "python",
   "name": "python3"
  },
  "language_info": {
   "codemirror_mode": {
    "name": "ipython",
    "version": 2
   },
   "file_extension": ".py",
   "mimetype": "text/x-python",
   "name": "python",
   "nbconvert_exporter": "python",
   "pygments_lexer": "ipython2",
   "version": "2.7.6"
  }
 },
 "nbformat": 4,
 "nbformat_minor": 0
}
